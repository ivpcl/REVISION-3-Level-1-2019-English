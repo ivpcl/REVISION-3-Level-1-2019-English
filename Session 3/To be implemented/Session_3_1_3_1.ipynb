{
  "nbformat": 4,
  "nbformat_minor": 0,
  "metadata": {
    "colab": {
      "name": "Session 3-1-3.1.ipynb",
      "provenance": [],
      "collapsed_sections": []
    },
    "kernelspec": {
      "name": "python3",
      "display_name": "Python 3"
    }
  },
  "cells": [
    {
      "cell_type": "markdown",
      "metadata": {
        "id": "6GbmyEzCZniR"
      },
      "source": [
        "**bold text**## 3.1 Counting\n",
        "For loops allow us to repeat things.\n",
        "\n",
        "Start with counting from 1 to 3:\n",
        "\n",
        "    1, 2, 3.\n",
        "\n",
        "We can think of this counting using:\n",
        "\n",
        "    start = 1    <- First number\n",
        "    step  = 1    <- Add 1 to previous number\n",
        "    end   = 3    <- Do not count past 3\n",
        "    \n",
        "We can also count by 2s.\n",
        "\n",
        "To count: \n",
        "\n",
        "    5, 7, 9\n",
        "    \n",
        "we have:\n",
        "\n",
        "    start = 5\n",
        "    step  = 2\n",
        "    end   = 9.\n",
        "    \n",
        "In Python, we also add the stop index.\n",
        "The idea is to not count past the stop.\n",
        "\n",
        "For counting 1, 2, 3:\n",
        "\n",
        "    stop = 4  <- Do NOT include 4 in your counting.\n",
        "    \n",
        "For counting 5, 7, 9:\n",
        "\n",
        "    stop = 11 <- Do NOT include 11.\n",
        "    \n",
        "\n",
        "In Mathematics, you may have also covered this material under <i>arithmetic progressions</i>."
      ]
    }
  ]
}