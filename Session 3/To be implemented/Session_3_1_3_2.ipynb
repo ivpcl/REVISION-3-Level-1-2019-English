{
  "nbformat": 4,
  "nbformat_minor": 0,
  "metadata": {
    "colab": {
      "name": "Session 3-1-3.2.ipynb",
      "provenance": []
    },
    "kernelspec": {
      "name": "python3",
      "display_name": "Python 3"
    }
  },
  "cells": [
    {
      "cell_type": "markdown",
      "metadata": {
        "id": "WIuJszsKZ4-0"
      },
      "source": [
        "\n",
        "## 3.2 Counting with for loops"
      ]
    },
    {
      "cell_type": "code",
      "metadata": {
        "id": "IkfJutBqaAM2"
      },
      "source": [
        "# Increasing a variable example\n",
        "# - Change the line i=3 and see what happens.\n",
        "# - Change the 2 and see what happens.\n",
        "\n",
        "i = 3\n",
        "print(i)\n",
        "\n",
        "# Note special example:\n",
        "#     i = i + 2\n",
        "# In regular algebra, this is IMPOSSIBLE. Why?\n",
        "# However, the computer will process this fine!\n",
        "#  1. It processes the right-hand-side first.\n",
        "#  2. Then it assigns the result to i (the left-hand-side)\n",
        "# What happened here?\n",
        "\n",
        "i = i + 2\n",
        "print(i)"
      ],
      "execution_count": null,
      "outputs": []
    },
    {
      "cell_type": "code",
      "metadata": {
        "id": "6UvUsQ2UaC3T"
      },
      "source": [
        "# The following example shows repearing code.\n",
        "# Can you see which code is repeated?\n",
        "\n",
        "# Work through this code line-by-line\n",
        "# - Change start_i to see what happens.\n",
        "# - Change step_i  to see what happens.\n",
        "# - Add comments to document your understanding.\n",
        "\n",
        "start_i = 1\n",
        "step_i  = 1\n",
        "\n",
        "i = start_i\n",
        "print(i)\n",
        "\n",
        "i = i + step_i # increases i\n",
        "print(i)\n",
        "\n",
        "i = i + step_i # increases i\n",
        "print(i)"
      ],
      "execution_count": null,
      "outputs": []
    },
    {
      "cell_type": "code",
      "metadata": {
        "id": "pJdApK6YaE0D"
      },
      "source": [
        "# You can use a loop to avoid retyping code that repeats.\n",
        "# The code below does the same thing using a for-loop.\n",
        "# Note the special syntax:\n",
        "# - NO empty space at the begining of a line.\n",
        "# - Note the range() command that generates 1, 2, 3.\n",
        "# - The for-loop ends with  :\n",
        "# - After the for-loop, you must have some leading space for the repeating code.\n",
        "# - ALL of the code INSIDE the for-loop must START at the same position.\n",
        "\n",
        "start_i = 1\n",
        "step_i  = 1\n",
        "\n",
        "# Stop at 4. \n",
        "stop_i  = 4\n",
        "\n",
        "for i in range(start_i, stop_i, step_i):\n",
        "    print(i)\n",
        "    # The COMMENT starts at the same position as print(i)\n",
        "    # Everything inside the loop starts at the SAME position."
      ],
      "execution_count": null,
      "outputs": []
    },
    {
      "cell_type": "code",
      "metadata": {
        "id": "nDjbz7XnaGnN"
      },
      "source": [
        "# Write the code to count from 1 to 10\n",
        "# Your code should output: 1, 2, 3, ..., 10.\n",
        "# Copy and paste the code from above and be careful about the syntax!\n"
      ],
      "execution_count": null,
      "outputs": []
    },
    {
      "cell_type": "code",
      "metadata": {
        "id": "bIf2uUa3aIzW"
      },
      "source": [
        "# Write the code to count from 2 to 20 by 2\n",
        "# Your code should ouput:  2, 4, 6, ..., 20.\n",
        "\n"
      ],
      "execution_count": null,
      "outputs": []
    },
    {
      "cell_type": "code",
      "metadata": {
        "id": "xcIFFL22aKOC"
      },
      "source": [
        "# Create your own loop to count as far as you want and by the step you want.\n"
      ],
      "execution_count": null,
      "outputs": []
    },
    {
      "cell_type": "markdown",
      "metadata": {
        "id": "HOxRRqBmaUV4"
      },
      "source": [
        "## 3.2 Conditional statements and inequalities\n",
        "### 3.2.1 Conditions using equalities and inequalities\n",
        "\n",
        "Consider the numbers 1 to 10.\n",
        "\n",
        "Which numbers satisfy $x>5$?\n",
        "\n",
        "Which numbers satisfy $x<5$? \n",
        "\n",
        "In computing, $(x<5)$ and $(x>5)$ \n",
        "are called conditions :-).\n",
        "\n",
        "Another condition is $(x==5)$ which is only satisfied if $x=5$."
      ]
    },
    {
      "cell_type": "markdown",
      "metadata": {
        "id": "l6NXO1TPaWxm"
      },
      "source": [
        "### 3.2.2 Basic conditional statements"
      ]
    },
    {
      "cell_type": "markdown",
      "metadata": {
        "id": "beu5KRBAaa-c"
      },
      "source": [
        "We want to program computers to execute different code based on their input.\n",
        "\n",
        "To make the computers do that, we use the if-statement.\n",
        "\n",
        "Consider the following code:\n",
        "\n",
        "        Code1        \n",
        "        if (condition)\n",
        "           Code2a\n",
        "        else:\n",
        "           Code2b           \n",
        "        Code3\n",
        "\n",
        "Two different cases need to be considered.\n",
        "\n",
        "<strong>Case 1.</strong> Condition is satisfied after Code1 is executed.<br>\n",
        "Computer executes:\n",
        "\n",
        "        Code1\n",
        "        Evaluate condition\n",
        "        Code2a\n",
        "        Code3\n",
        "\n",
        "<strong>Case 2.</strong> Condition is NOT satisfied after Code1 is done.<br>\n",
        "Computer executes:\n",
        "\n",
        "        Code1\n",
        "        Evaluate condition\n",
        "        Code2b\n",
        "        Code3\n",
        "\n",
        "You will need to apply your understanding of conditional statements below."
      ]
    },
    {
      "cell_type": "code",
      "metadata": {
        "id": "dzt3QZxOaj0d"
      },
      "source": [
        "# Guess my number game\n",
        "# Add comments to document your understanding.\n",
        "# - Run the code and enter 6. Observe what happens.\n",
        "# - Run the code and enter 5. Observe what happens.\n",
        "#\n",
        "# Based on the example above, add comments that identify:\n",
        "#    Code1, Code2a, Code2b, and Code3\n",
        "# What is the condition that is checked here?\n",
        "\n",
        "# Note that int() converts it to an integer.\n",
        "# int(1.1) gives 1 so that spaces are removed :-).\n",
        "number = int(input(\" Input your number \"))\n",
        "secret_number = 5\n",
        "if (number == secret_number):\n",
        "    print(\"You guessed it!\")\n",
        "    print(\"You win.\")\n",
        "else:\n",
        "    print(\"You did not guess it correctly!\")\n",
        "    print(\"I win!\")\n",
        "    \n",
        "print(\"End of the game!\")"
      ],
      "execution_count": null,
      "outputs": []
    },
    {
      "cell_type": "markdown",
      "metadata": {
        "id": "XiDDzTygan4Z"
      },
      "source": [
        "### 3.2.3 Complex conditional statements\n",
        "\n",
        "A more complicated conditional statement is:\n",
        "\n",
        "    Code1\n",
        "    if (condition 1)\n",
        "      Code2a\n",
        "    elif (condition 2)\n",
        "      Code2b\n",
        "    else\n",
        "      Code2c\n",
        "    Code3\n",
        "    \n",
        "We need to consider three cases.\n",
        "\n",
        "<strong>Case 1.</strong> If condition 1 is satisfied after Code1.</br>\n",
        "Computer executes:\n",
        "    \n",
        "    Code1\n",
        "    Evaluate condition 1\n",
        "    Code2a\n",
        "    Code3\n",
        "    \n",
        "<strong>Case 2.</strong> If condition is is NOT satisfied after Code1.</br>\n",
        "The computer will then check condition 2. Assume that condition 2 is satisfied.<br>\n",
        "Computer executes:<br>\n",
        "\n",
        "    Code1\n",
        "    Evaluate condition 1\n",
        "    Evaluate condition 2\n",
        "    Code2b\n",
        "    Code3\n",
        "    \n",
        "<strong>Case 3.</strong> Neither condition 1 nor 2 is satisfied.</br>\n",
        "Computer executes:<br>\n",
        "\n",
        "    Code1\n",
        "    Evaluate condition 1\n",
        "    Evaluate condition 2\n",
        "    Code2c\n",
        "    Code3\n",
        "    \n",
        "We will try to demonstrate this below."
      ]
    },
    {
      "cell_type": "code",
      "metadata": {
        "id": "tuK3swrsaxUX"
      },
      "source": [
        "# Run the code below by entering:\n",
        "#   6, 4, and 5.\n",
        "# Carefully observe which message is printed.\n",
        "# Look at the code and identify:\n",
        "#   Code1, Code2a, Code2b, Code2c, and Code 3.\n",
        "# What is condition 1?\n",
        "# Which numbers satisfy condition 1?\n",
        "# Which numbers FAIL to satisfy condition 1?\n",
        "# What is condition 2?\n",
        "# Which numbers satisfy condition 2?\n",
        "# Which numbers FAIL to satisfy condition 2?\n",
        "# Which numbers FAIL to satisfy both conditions 1 and 2?\n",
        "#\n",
        "# Change the 3 messages to help the user.\n",
        "\n",
        "number = int(input(\" Input your number \"))\n",
        "secret_number = 5\n",
        "\n",
        "if (secret_number > number):\n",
        "    print(\"Your guess is ... I\") # FIX the message\n",
        "elif (secret_number < number):\n",
        "    print(\"Your guess is ... II\") # FIX the message\n",
        "else:\n",
        "    print(\"Your guess is ... III\") # FIX the message\n",
        "\n",
        "print(\" \")\n",
        "print(\"End of game\")"
      ],
      "execution_count": null,
      "outputs": []
    }
  ]
}