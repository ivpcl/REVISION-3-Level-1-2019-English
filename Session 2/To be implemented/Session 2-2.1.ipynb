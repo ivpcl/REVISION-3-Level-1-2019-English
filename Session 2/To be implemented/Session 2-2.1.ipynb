{
  "nbformat": 4,
  "nbformat_minor": 0,
  "metadata": {
    "colab": {
      "name": "Session 2-2.1.ipynb",
      "provenance": [],
      "collapsed_sections": []
    },
    "kernelspec": {
      "display_name": "Python 3",
      "language": "python",
      "name": "python3"
    },
    "language_info": {
      "codemirror_mode": {
        "name": "ipython",
        "version": 3
      },
      "file_extension": ".py",
      "mimetype": "text/x-python",
      "name": "python",
      "nbconvert_exporter": "python",
      "pygments_lexer": "ipython3",
      "version": "3.8.5"
    }
  },
  "cells": [
    {
      "cell_type": "markdown",
      "metadata": {
        "id": "l6Bb-XrhRjj4"
      },
      "source": [
        "# 2.1. <u>Exploring Programming with Python <u/>\n",
        "Use card 2.1. for this section.\n",
        "## TASK 1: You accessed a file and explored the Jupyter's taskbar.\n",
        "## TASK 2: Now, let's play the Guessing Game.\n",
        "Explore Python Programming through the guessing game. The code <b>below</b> makes the game work. <i>Play</i> the game by entering the information that the program asks."
      ]
    },
    {
      "cell_type": "code",
      "metadata": {
        "id": "77Zk1aBfRomr"
      },
      "source": [
        "name = input(\"What is your name? \")\n",
        "hi   = \"Hello \" + name + \"!\" # What do you think the Addition signs do?\n",
        "print(hi)\n",
        "print(\" \") # prints an empty line\n",
        "print(\"Let us play a game!\")\n",
        "\n",
        "# Recall inverse operations\n",
        "msg = \"Think of an integer number but do not tell me! Press Enter when done.\"\n",
        "wait = input(msg)                           # x\n",
        "wait = input(\"Multiply by 2 and hit enter\") # 2*x\n",
        "wait = input(\"Add 3 and hit enter\")         # 2*x + 3\n",
        "\n",
        "print(\" \")\n",
        "s = input(\"Give me the result from this operation : \")  # 2*x + 3\n",
        "print(\" \")\n",
        "\n",
        "# Apply inverse operations:\n",
        "y  = int(s)      # Convert from a string to a number.\n",
        "x1 = y - 3       # (2*x + 3) - 3 = 2*x\n",
        "x2 = int(x1/2)   # (2*x)/2 = x\n",
        "\n",
        "# Message\n",
        "msg = \"Your number is \"+str(x2) # str(x2) makes it into a number.\n",
        "print(msg)\n",
        "msg = \"Aren't you impressed \"+name+\" :-)\"\n",
        "print(msg)"
      ],
      "execution_count": null,
      "outputs": []
    },
    {
      "cell_type": "markdown",
      "metadata": {
        "id": "29wI7danTF83"
      },
      "source": [
        "## TASK 3: Assignments and 'print' Commands \n",
        "\n",
        "1.   List item\n",
        "2.   List item\n",
        "\n",
        "\n",
        "The examples in the 3 cells (A, B, C) below will help us learn the <b>print</b>  command. \n",
        "When you type \"\\#\" at the begining of a line, it creates a COMMENT.\n",
        "Computers process code in order, line by line. See below:"
      ]
    },
    {
      "cell_type": "code",
      "metadata": {
        "id": "RAKtyxPcTHkS"
      },
      "source": [
        "# CELL A: What will the 'print' command do? \n",
        "# Run CELL A and think about it and discuss with your friends.\n",
        "x = 5     \n",
        "print(x)"
      ],
      "execution_count": null,
      "outputs": []
    },
    {
      "cell_type": "code",
      "metadata": {
        "id": "ACkiLxvaTL66"
      },
      "source": [
        "# CELL B: The red text below in programming is called String. \n",
        "# What do you think the print command does? \n",
        "# What happens when you change the String?\n",
        "name = input(\"What is your name ??? \")\n",
        "hi   = \"Hello \" + name + \"!\" # What do the plus signs do?\n",
        "print(hi)"
      ],
      "execution_count": null,
      "outputs": []
    },
    {
      "cell_type": "code",
      "metadata": {
        "id": "k52Z_P7aTN5G"
      },
      "source": [
        "# CELL C: Python can process complex expressions. \n",
        "# Run and think about what the code does.\n",
        "x = 100\n",
        "print(10000*x + 100000)"
      ],
      "execution_count": null,
      "outputs": []
    },
    {
      "cell_type": "markdown",
      "metadata": {
        "id": "Owwf3EmjVJTK"
      },
      "source": [
        "## TASK 4: Program something fun in your group.\n",
        "Program a complex math operation.<br>\n",
        "Experiment with what you learned so far!"
      ]
    },
    {
      "cell_type": "code",
      "metadata": {
        "id": "OX96U5FWVLfh"
      },
      "source": [
        "y  = int(s)      # Convert from a string to a number.\n",
        "x1 = y - 3       # (2*x + 3) - 3 = 2*x\n",
        "x2 = int(x1/2)   # (2*x)/2 = x"
      ],
      "execution_count": null,
      "outputs": []
    }
  ]
}