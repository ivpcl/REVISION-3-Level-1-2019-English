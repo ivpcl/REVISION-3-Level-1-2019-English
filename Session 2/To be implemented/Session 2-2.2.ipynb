{
  "nbformat": 4,
  "nbformat_minor": 0,
  "metadata": {
    "colab": {
      "name": "Session 2-2.2.ipynb",
      "provenance": []
    },
    "kernelspec": {
      "name": "python3",
      "display_name": "Python 3"
    }
  },
  "cells": [
    {
      "cell_type": "markdown",
      "metadata": {
        "id": "tfUG9yVIVW8Z"
      },
      "source": [
        "# 2.2. <u>Programming Number Operations w/ Python<u/>\n",
        "Use card 2.2. for this section.\n",
        "\n",
        "We're learning operations in Python to program the Guessing Game!!"
      ]
    },
    {
      "cell_type": "markdown",
      "metadata": {
        "id": "ua0iql9qVcJS"
      },
      "source": [
        "## TASK 1: Using Algebra to program the Guessing Game\n",
        "       Read Card 2.2.1\n",
        "## TASK 2: Connecting the Game to Variables and Operations w/ Python"
      ]
    },
    {
      "cell_type": "code",
      "metadata": {
        "id": "Yp2ZNj3pVf41"
      },
      "source": [
        "# CELL 2A: Run this cell and enter a number. \n",
        "# How does your number change? Why?\n",
        "# Can you explain what the lines below do?\n",
        "# After playing a couple of times, take turns making changes \n",
        "# and predict what will happen.\n",
        "x = int(input(\"Enter a number:              x     = \"))\n",
        "print(\"Multiplying x by 2 gives:    2*x   =\", 2*x)\n",
        "print(\"Adding 3 to the result gives 2*x+3 =\", 2*x+3)"
      ],
      "execution_count": null,
      "outputs": []
    },
    {
      "cell_type": "code",
      "metadata": {
        "id": "_xFSX-rcViSR"
      },
      "source": [
        "# CELL 2B: Run this Cell. How is it different from Cell 2A?\n",
        "# x, y and z are variables. What is a variable?\n",
        "# How does the value of x relate to y and z?\n",
        "# After playing a couple times, take turns changing the name\n",
        "# of the variables.\n",
        "x = int(input(\"Enter a number:               x = \"))\n",
        "\n",
        "y = 2*x\n",
        "print(\"Multiplying x by 2 gives:     y = 2*x   =\", y)\n",
        "\n",
        "z = y+3\n",
        "print(\"Adding 3 to the result gives: z = 2*x+3 =\", z)"
      ],
      "execution_count": null,
      "outputs": []
    },
    {
      "cell_type": "code",
      "metadata": {
        "id": "GYbNKi56Vjq6"
      },
      "source": [
        "# CELL 2C: Your turn to operate.\n",
        "# Take turns naming and operating the variables below\n",
        "# Before you run your variables, predict the results. \n",
        "x = int(input(\"Enter a number:               x = \"))\n",
        "\n",
        "y = ?*x   # <- Multiply by your own number.\n",
        "print(\"Multiplying x by ? gives:     y = ?*x   =\", y)\n",
        "\n",
        "z = ?? + y   # <- Add your own number.\n",
        "print(\"Adding ?? to the result gives: z = y + ?? =\", z)"
      ],
      "execution_count": null,
      "outputs": []
    }
  ]
}